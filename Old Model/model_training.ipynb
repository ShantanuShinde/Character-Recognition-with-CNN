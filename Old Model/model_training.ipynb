{
 "cells": [
  {
   "cell_type": "code",
   "execution_count": 1,
   "metadata": {
    "_cell_guid": "b1076dfc-b9ad-4769-8c92-a6c4dae69d19",
    "_uuid": "8f2839f25d086af736a60e9eeb907d3b93b6e0e5"
   },
   "outputs": [
    {
     "name": "stderr",
     "output_type": "stream",
     "text": [
      "Using TensorFlow backend.\n"
     ]
    }
   ],
   "source": [
    "from keras.layers import Dense, Softmax, Conv2D, MaxPool2D, Activation, Flatten, Dropout, BatchNormalization\n",
    "from keras.models import Sequential\n",
    "from keras import optimizers\n",
    "import numpy as np\n",
    "from keras.utils import to_categorical\n",
    "import pandas as pd"
   ]
  },
  {
   "cell_type": "code",
   "execution_count": 2,
   "metadata": {
    "_cell_guid": "79c7e3d0-c299-4dcb-8224-4455121ee9b0",
    "_uuid": "d629ff2d2480ee46fbb7e2d37f6b5fab8052498a"
   },
   "outputs": [
    {
     "name": "stdout",
     "output_type": "stream",
     "text": [
      "(19935, 785)\n"
     ]
    }
   ],
   "source": [
    "train_df = pd.read_csv('../input/train.csv')\n",
    "print(train_df.shape)"
   ]
  },
  {
   "cell_type": "code",
   "execution_count": 3,
   "metadata": {},
   "outputs": [
    {
     "name": "stdout",
     "output_type": "stream",
     "text": [
      "(19935, 784) (19935,)\n"
     ]
    }
   ],
   "source": [
    "X = train_df.drop(['label'], axis=1).values\n",
    "Y = train_df['label']\n",
    "print(X.shape, Y.shape)\n"
   ]
  },
  {
   "cell_type": "code",
   "execution_count": 4,
   "metadata": {},
   "outputs": [
    {
     "name": "stdout",
     "output_type": "stream",
     "text": [
      "(15948, 784) (15948,) (3987, 784) (3987,)\n"
     ]
    }
   ],
   "source": [
    "from sklearn.model_selection import train_test_split\n",
    "X_train, X_val, Y_train, Y_val = train_test_split(X, Y, test_size=0.2)\n",
    "print(X_train.shape, Y_train.shape, X_val.shape, Y_val.shape)"
   ]
  },
  {
   "cell_type": "code",
   "execution_count": 5,
   "metadata": {},
   "outputs": [],
   "source": [
    "X_train = X_train.reshape((-1, 28, 28, 1)).astype('float32')/255\n",
    "X_val = X_val.reshape((-1, 28, 28, 1)).astype('float32')/255\n",
    "Y_train = to_categorical(Y_train)\n",
    "Y_val = to_categorical(Y_val)"
   ]
  },
  {
   "cell_type": "code",
   "execution_count": 6,
   "metadata": {},
   "outputs": [
    {
     "name": "stdout",
     "output_type": "stream",
     "text": [
      "(15948, 28, 28, 1) (15948, 26) (3987, 28, 28, 1) (3987, 26)\n"
     ]
    }
   ],
   "source": [
    "print(X_train.shape, Y_train.shape, X_val.shape, Y_val.shape)"
   ]
  },
  {
   "cell_type": "code",
   "execution_count": 7,
   "metadata": {},
   "outputs": [
    {
     "name": "stdout",
     "output_type": "stream",
     "text": [
      "Model: \"sequential_1\"\n",
      "_________________________________________________________________\n",
      "Layer (type)                 Output Shape              Param #   \n",
      "=================================================================\n",
      "conv2d_1 (Conv2D)            (None, 28, 28, 32)        832       \n",
      "_________________________________________________________________\n",
      "conv2d_2 (Conv2D)            (None, 28, 28, 32)        25632     \n",
      "_________________________________________________________________\n",
      "batch_normalization_1 (Batch (None, 28, 28, 32)        128       \n",
      "_________________________________________________________________\n",
      "dropout_1 (Dropout)          (None, 28, 28, 32)        0         \n",
      "_________________________________________________________________\n",
      "max_pooling2d_1 (MaxPooling2 (None, 14, 14, 32)        0         \n",
      "_________________________________________________________________\n",
      "conv2d_3 (Conv2D)            (None, 14, 14, 128)       102528    \n",
      "_________________________________________________________________\n",
      "batch_normalization_2 (Batch (None, 14, 14, 128)       512       \n",
      "_________________________________________________________________\n",
      "dropout_2 (Dropout)          (None, 14, 14, 128)       0         \n",
      "_________________________________________________________________\n",
      "max_pooling2d_2 (MaxPooling2 (None, 7, 7, 128)         0         \n",
      "_________________________________________________________________\n",
      "conv2d_4 (Conv2D)            (None, 7, 7, 64)          131136    \n",
      "_________________________________________________________________\n",
      "conv2d_5 (Conv2D)            (None, 7, 7, 64)          65600     \n",
      "_________________________________________________________________\n",
      "batch_normalization_3 (Batch (None, 7, 7, 64)          256       \n",
      "_________________________________________________________________\n",
      "dropout_3 (Dropout)          (None, 7, 7, 64)          0         \n",
      "_________________________________________________________________\n",
      "max_pooling2d_3 (MaxPooling2 (None, 4, 4, 64)          0         \n",
      "_________________________________________________________________\n",
      "flatten_1 (Flatten)          (None, 1024)              0         \n",
      "_________________________________________________________________\n",
      "dense_1 (Dense)              (None, 256)               262400    \n",
      "_________________________________________________________________\n",
      "dropout_4 (Dropout)          (None, 256)               0         \n",
      "_________________________________________________________________\n",
      "dense_2 (Dense)              (None, 26)                6682      \n",
      "=================================================================\n",
      "Total params: 595,706\n",
      "Trainable params: 595,258\n",
      "Non-trainable params: 448\n",
      "_________________________________________________________________\n"
     ]
    }
   ],
   "source": [
    "model = Sequential()\n",
    "model.add(Conv2D(32, (5,5), input_shape=(28,28,1), padding='same', activation='relu'))\n",
    "model.add(Conv2D(32, (5,5), padding='same', activation='relu'))\n",
    "model.add(BatchNormalization())\n",
    "model.add(Dropout(0.25))\n",
    "model.add(MaxPool2D(padding='same', strides=2))\n",
    "model.add(Conv2D(128, (5, 5), padding='same', activation='relu'))\n",
    "model.add(BatchNormalization())\n",
    "model.add(Dropout(0.25))\n",
    "model.add(MaxPool2D(padding='same', strides=2))\n",
    "model.add(Conv2D(64, (4,4), padding='same', activation='relu'))\n",
    "model.add(Conv2D(64, (4,4), padding='same', activation='relu'))\n",
    "model.add(BatchNormalization())\n",
    "model.add(Dropout(0.25))\n",
    "model.add(MaxPool2D(padding='same', strides=2))\n",
    "model.add(Flatten())\n",
    "model.add(Dense(256, activation='relu'))\n",
    "model.add(Dropout(0.5))\n",
    "model.add(Dense(26, activation='softmax'))\n",
    "rmsdrp = optimizers.rmsprop(lr=0.001, epsilon=1e-08)\n",
    "\n",
    "model.compile( loss = \"categorical_crossentropy\", \n",
    "               optimizer = rmsdrp, \n",
    "               metrics=['accuracy']\n",
    "             )\n",
    "model.summary()\n",
    "\n"
   ]
  },
  {
   "cell_type": "code",
   "execution_count": 8,
   "metadata": {},
   "outputs": [],
   "source": [
    "from keras_preprocessing.image import ImageDataGenerator\n",
    "data_augment = ImageDataGenerator(rotation_range=10, zoom_range=0.1,width_shift_range=0.1, height_shift_range=0.1)\n"
   ]
  },
  {
   "cell_type": "code",
   "execution_count": 9,
   "metadata": {},
   "outputs": [
    {
     "name": "stdout",
     "output_type": "stream",
     "text": [
      "Epoch 1/50\n",
      "249/249 [==============================] - 10s 40ms/step - loss: 2.7408 - accuracy: 0.2191 - val_loss: 16.1734 - val_accuracy: 0.0451\n",
      "Epoch 2/50\n",
      "249/249 [==============================] - 8s 31ms/step - loss: 1.1732 - accuracy: 0.6560 - val_loss: 1.4068 - val_accuracy: 0.6479\n",
      "Epoch 3/50\n",
      "249/249 [==============================] - 8s 31ms/step - loss: 0.8117 - accuracy: 0.7691 - val_loss: 0.5946 - val_accuracy: 0.8420\n",
      "Epoch 4/50\n",
      "249/249 [==============================] - 8s 31ms/step - loss: 0.6667 - accuracy: 0.8097 - val_loss: 0.8862 - val_accuracy: 0.8001\n",
      "Epoch 5/50\n",
      "249/249 [==============================] - 8s 31ms/step - loss: 0.6028 - accuracy: 0.8314 - val_loss: 0.4819 - val_accuracy: 0.8631\n",
      "Epoch 6/50\n",
      "249/249 [==============================] - 8s 31ms/step - loss: 0.5404 - accuracy: 0.8503 - val_loss: 0.3668 - val_accuracy: 0.9024\n",
      "Epoch 7/50\n",
      "249/249 [==============================] - 8s 31ms/step - loss: 0.5049 - accuracy: 0.8590 - val_loss: 0.4155 - val_accuracy: 0.8969\n",
      "Epoch 8/50\n",
      "249/249 [==============================] - 8s 31ms/step - loss: 0.4677 - accuracy: 0.8714 - val_loss: 0.5130 - val_accuracy: 0.8761\n",
      "Epoch 9/50\n",
      "249/249 [==============================] - 8s 31ms/step - loss: 0.4503 - accuracy: 0.8730 - val_loss: 0.2768 - val_accuracy: 0.9275\n",
      "Epoch 10/50\n",
      "249/249 [==============================] - 8s 31ms/step - loss: 0.4324 - accuracy: 0.8811 - val_loss: 0.3672 - val_accuracy: 0.9217\n",
      "Epoch 11/50\n",
      "249/249 [==============================] - 8s 31ms/step - loss: 0.4092 - accuracy: 0.8862 - val_loss: 0.3055 - val_accuracy: 0.9260\n",
      "Epoch 12/50\n",
      "249/249 [==============================] - 9s 35ms/step - loss: 0.4010 - accuracy: 0.8915 - val_loss: 0.3125 - val_accuracy: 0.9278\n",
      "Epoch 13/50\n",
      "249/249 [==============================] - 8s 31ms/step - loss: 0.3893 - accuracy: 0.8951 - val_loss: 0.3335 - val_accuracy: 0.9273\n",
      "Epoch 14/50\n",
      "249/249 [==============================] - 8s 31ms/step - loss: 0.3726 - accuracy: 0.8976 - val_loss: 0.4582 - val_accuracy: 0.8992\n",
      "Epoch 15/50\n",
      "249/249 [==============================] - 8s 31ms/step - loss: 0.3653 - accuracy: 0.9000 - val_loss: 0.3748 - val_accuracy: 0.9358\n",
      "Epoch 16/50\n",
      "249/249 [==============================] - 8s 31ms/step - loss: 0.3497 - accuracy: 0.9070 - val_loss: 0.3671 - val_accuracy: 0.9100\n",
      "Epoch 17/50\n",
      "249/249 [==============================] - 8s 31ms/step - loss: 0.3684 - accuracy: 0.9051 - val_loss: 0.2618 - val_accuracy: 0.9446\n",
      "Epoch 18/50\n",
      "249/249 [==============================] - 8s 30ms/step - loss: 0.3386 - accuracy: 0.9082 - val_loss: 0.2912 - val_accuracy: 0.9383\n",
      "Epoch 19/50\n",
      "249/249 [==============================] - 8s 31ms/step - loss: 0.3316 - accuracy: 0.9133 - val_loss: 0.8779 - val_accuracy: 0.8563\n",
      "Epoch 20/50\n",
      "249/249 [==============================] - 8s 31ms/step - loss: 0.3262 - accuracy: 0.9144 - val_loss: 0.3393 - val_accuracy: 0.9328\n",
      "Epoch 21/50\n",
      "249/249 [==============================] - 8s 31ms/step - loss: 0.3246 - accuracy: 0.9135 - val_loss: 0.3251 - val_accuracy: 0.9318\n",
      "Epoch 22/50\n",
      "249/249 [==============================] - 8s 31ms/step - loss: 0.3190 - accuracy: 0.9207 - val_loss: 0.2627 - val_accuracy: 0.9428\n",
      "Epoch 23/50\n",
      "249/249 [==============================] - 8s 31ms/step - loss: 0.2967 - accuracy: 0.9226 - val_loss: 0.3010 - val_accuracy: 0.9418\n",
      "Epoch 24/50\n",
      "249/249 [==============================] - 8s 31ms/step - loss: 0.3090 - accuracy: 0.9180 - val_loss: 0.2833 - val_accuracy: 0.9378\n",
      "Epoch 25/50\n",
      "249/249 [==============================] - 8s 31ms/step - loss: 0.3020 - accuracy: 0.9223 - val_loss: 0.3154 - val_accuracy: 0.9388\n",
      "Epoch 26/50\n",
      "249/249 [==============================] - 8s 31ms/step - loss: 0.2787 - accuracy: 0.9253 - val_loss: 0.2854 - val_accuracy: 0.9446\n",
      "Epoch 27/50\n",
      "249/249 [==============================] - 8s 31ms/step - loss: 0.2960 - accuracy: 0.9247 - val_loss: 0.4082 - val_accuracy: 0.9398\n",
      "Epoch 28/50\n",
      "249/249 [==============================] - 8s 31ms/step - loss: 0.2927 - accuracy: 0.9229 - val_loss: 0.2936 - val_accuracy: 0.9493\n",
      "Epoch 29/50\n",
      "249/249 [==============================] - 8s 31ms/step - loss: 0.2725 - accuracy: 0.9280 - val_loss: 0.2605 - val_accuracy: 0.9386\n",
      "Epoch 30/50\n",
      "249/249 [==============================] - 8s 31ms/step - loss: 0.2706 - accuracy: 0.9302 - val_loss: 0.2886 - val_accuracy: 0.9436\n",
      "Epoch 31/50\n",
      "249/249 [==============================] - 8s 31ms/step - loss: 0.2636 - accuracy: 0.9321 - val_loss: 0.2783 - val_accuracy: 0.9516\n",
      "Epoch 32/50\n",
      "249/249 [==============================] - 8s 31ms/step - loss: 0.2640 - accuracy: 0.9290 - val_loss: 0.2545 - val_accuracy: 0.9481\n",
      "Epoch 33/50\n",
      "249/249 [==============================] - 8s 31ms/step - loss: 0.2615 - accuracy: 0.9345 - val_loss: 0.2813 - val_accuracy: 0.9393\n",
      "Epoch 34/50\n",
      "249/249 [==============================] - 8s 31ms/step - loss: 0.2608 - accuracy: 0.9307 - val_loss: 0.2441 - val_accuracy: 0.9539\n",
      "Epoch 35/50\n",
      "249/249 [==============================] - 8s 31ms/step - loss: 0.2659 - accuracy: 0.9311 - val_loss: 0.2737 - val_accuracy: 0.9498\n",
      "Epoch 36/50\n",
      "249/249 [==============================] - 8s 31ms/step - loss: 0.2524 - accuracy: 0.9357 - val_loss: 0.2627 - val_accuracy: 0.9461\n",
      "Epoch 37/50\n",
      "249/249 [==============================] - 8s 31ms/step - loss: 0.2495 - accuracy: 0.9357 - val_loss: 0.4261 - val_accuracy: 0.9421\n",
      "Epoch 38/50\n",
      "249/249 [==============================] - 8s 31ms/step - loss: 0.2603 - accuracy: 0.9348 - val_loss: 0.2751 - val_accuracy: 0.9378\n",
      "Epoch 39/50\n",
      "249/249 [==============================] - 8s 31ms/step - loss: 0.2450 - accuracy: 0.9379 - val_loss: 0.2561 - val_accuracy: 0.9453\n",
      "Epoch 40/50\n",
      "249/249 [==============================] - 8s 31ms/step - loss: 0.2355 - accuracy: 0.9360 - val_loss: 0.2570 - val_accuracy: 0.9488\n",
      "Epoch 41/50\n",
      "249/249 [==============================] - 8s 31ms/step - loss: 0.2325 - accuracy: 0.9397 - val_loss: 0.3461 - val_accuracy: 0.9383\n",
      "Epoch 42/50\n",
      "249/249 [==============================] - 8s 31ms/step - loss: 0.2267 - accuracy: 0.9418 - val_loss: 0.4003 - val_accuracy: 0.9288\n",
      "Epoch 43/50\n",
      "249/249 [==============================] - 8s 30ms/step - loss: 0.2178 - accuracy: 0.9428 - val_loss: 0.3702 - val_accuracy: 0.9493\n",
      "Epoch 44/50\n",
      "249/249 [==============================] - 8s 31ms/step - loss: 0.2344 - accuracy: 0.9393 - val_loss: 0.2872 - val_accuracy: 0.9438\n",
      "Epoch 45/50\n",
      "249/249 [==============================] - 8s 31ms/step - loss: 0.2194 - accuracy: 0.9436 - val_loss: 0.2751 - val_accuracy: 0.9536\n",
      "Epoch 46/50\n",
      "249/249 [==============================] - 8s 31ms/step - loss: 0.2244 - accuracy: 0.9434 - val_loss: 0.6228 - val_accuracy: 0.9305\n",
      "Epoch 47/50\n",
      "249/249 [==============================] - 8s 31ms/step - loss: 0.2272 - accuracy: 0.9423 - val_loss: 0.2919 - val_accuracy: 0.9448\n",
      "Epoch 48/50\n",
      "249/249 [==============================] - 8s 31ms/step - loss: 0.2148 - accuracy: 0.9436 - val_loss: 0.2873 - val_accuracy: 0.9408\n",
      "Epoch 49/50\n",
      "249/249 [==============================] - 8s 31ms/step - loss: 0.2233 - accuracy: 0.9397 - val_loss: 0.3029 - val_accuracy: 0.9579\n",
      "Epoch 50/50\n",
      "249/249 [==============================] - 8s 31ms/step - loss: 0.2063 - accuracy: 0.9463 - val_loss: 0.2699 - val_accuracy: 0.9473\n"
     ]
    }
   ],
   "source": [
    "history = model.fit_generator(data_augment.flow(X_train, Y_train, batch_size=64, ), epochs=50, steps_per_epoch=X_train.shape[0]//64, validation_data=(X_val, Y_val))"
   ]
  },
  {
   "cell_type": "code",
   "execution_count": 10,
   "metadata": {},
   "outputs": [],
   "source": [
    "\n",
    "model.save('trained_model.h5')"
   ]
  },
  {
   "cell_type": "code",
   "execution_count": 11,
   "metadata": {},
   "outputs": [
    {
     "data": {
      "text/html": [
       "<a href='trained_model.h5' target='_blank'>trained_model.h5</a><br>"
      ],
      "text/plain": [
       "/kaggle/working/trained_model.h5"
      ]
     },
     "execution_count": 11,
     "metadata": {},
     "output_type": "execute_result"
    }
   ],
   "source": [
    "from IPython.display import FileLink\n",
    "FileLink(r'trained_model.h5')"
   ]
  },
  {
   "cell_type": "code",
   "execution_count": 12,
   "metadata": {},
   "outputs": [
    {
     "data": {
      "image/png": "[encoded data removed]",
      "text/plain": [
       "<IPython.core.display.Image object>"
      ]
     },
     "execution_count": 12,
     "metadata": {},
     "output_type": "execute_result"
    }
   ],
   "source": [
    "from keras.utils import plot_model\n",
    "plot_model(model, to_file='model.png')"
   ]
  },
  {
   "cell_type": "code",
   "execution_count": 13,
   "metadata": {},
   "outputs": [
    {
     "data": {
      "text/html": [
       "<a href='model.png' target='_blank'>model.png</a><br>"
      ],
      "text/plain": [
       "/kaggle/working/model.png"
      ]
     },
     "execution_count": 13,
     "metadata": {},
     "output_type": "execute_result"
    }
   ],
   "source": [
    "from IPython.display import FileLink\n",
    "FileLink(r'model.png')"
   ]
  },
  {
   "cell_type": "code",
   "execution_count": null,
   "metadata": {},
   "outputs": [],
   "source": []
  }
 ],
 "metadata": {
  "kernelspec": {
   "display_name": "Python 3",
   "language": "python",
   "name": "python3"
  },
  "language_info": {
   "codemirror_mode": {
    "name": "ipython",
    "version": 3
   },
   "file_extension": ".py",
   "mimetype": "text/x-python",
   "name": "python",
   "nbconvert_exporter": "python",
   "pygments_lexer": "ipython3",
   "version": "3.7.3"
  }
 },
 "nbformat": 4,
 "nbformat_minor": 1
}
